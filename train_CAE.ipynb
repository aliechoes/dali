{
 "cells": [
  {
   "cell_type": "markdown",
   "metadata": {},
   "source": [
    "# Training the AutoEncoder on unlabeled images\n",
    "\n",
    "First we will load the images of the experiment and save them to an .h5 file for convenience.<br>Then we will use the images to train an autoencoder for feature extraction.\n",
    "\n",
    "## Loading the dataset"
   ]
  },
  {
   "cell_type": "code",
   "execution_count": 2,
   "metadata": {},
   "outputs": [],
   "source": [
    "import numpy as np\n",
    "import pandas as pd\n",
    "#np.random.seed(1)\n",
    "import time\n",
    "import h5py\n",
    "from keras.callbacks import ModelCheckpoint\n",
    "from keras.callbacks import CSVLogger\n",
    "from sklearn.model_selection import train_test_split\n",
    "import matplotlib.pyplot as plt\n",
    "from decafx.cae_architectures import cae_indepIn\n",
    "\n",
    "#%% load the data from the .h5 file\n",
    "h5f = h5py.File('./data/X_M1.h5','r')\n",
    "#h5f.visit(print)#print all filenames in the file\n",
    "X = h5f['X'][()]#images\n",
    "y = h5f['y'][()]#labels\n",
    "#fnames = h5f['fnames'][()]\n",
    "h5f.close()\n",
    "\n",
    "#y==0: apoptotic cell\n",
    "#y==1: non-apoptotic cell"
   ]
  },
  {
   "cell_type": "markdown",
   "metadata": {},
   "source": [
    "# Exploring the dataset\n",
    "\n",
    "Let's get a feeling for the dataset, namely:\n",
    "- Total number of cells\n",
    "- Image properties (size and channels)\n",
    "- Distribution of cells in the two classes\n",
    "- Plot an image of a cell to see what it looks like"
   ]
  },
  {
   "cell_type": "code",
   "execution_count": 3,
   "metadata": {},
   "outputs": [
    {
     "name": "stdout",
     "output_type": "stream",
     "text": [
      "Total cells in the dataset: 15311\n",
      "Size of each image: ( 32 , 32 )\n",
      "Number of channels: 2\n"
     ]
    },
    {
     "data": {
      "image/png": "[encoded data removed]",
      "text/plain": [
       "<matplotlib.figure.Figure at 0x1552edd8>"
      ]
     },
     "metadata": {},
     "output_type": "display_data"
    },
    {
     "data": {
      "image/png": "[encoded data removed]",
      "text/plain": [
       "<matplotlib.figure.Figure at 0x17607898>"
      ]
     },
     "metadata": {},
     "output_type": "display_data"
    }
   ],
   "source": [
    "#find the total number of cells, image size and number of channels\n",
    "cells_total=X.shape[0]\n",
    "imsize_x=X.shape[1]\n",
    "imsize_y=X.shape[2]\n",
    "imsize=(imsize_x,imsize_y)\n",
    "nchannels=X.shape[3]\n",
    "print('Total cells in the dataset:',cells_total)\n",
    "print('Size of each image: (',imsize_x,',',imsize_y,')')\n",
    "print('Number of channels:',nchannels)\n",
    "\n",
    "#plot the image of a cell\n",
    "plt.figure()\n",
    "plt.subplot(1,2,1)\n",
    "plt.imshow(X[0,:,:,0],cmap='gray')\n",
    "plt.title('Brightfield')\n",
    "plt.subplot(1,2,2)\n",
    "plt.imshow(X[0,:,:,1],cmap='gray')\n",
    "plt.title('Fluorescence')\n",
    "\n",
    "#plot histogram of class distribution\n",
    "plt.figure()\n",
    "s=pd.Series(y).astype('category')#create pandas series\n",
    "s.cat.rename_categories(['apoptotic','non-apoptotic'],inplace=True)#rename categories\n",
    "pd.value_counts(s).plot(kind='bar')\n",
    "plt.title('class distribution over training data')\n",
    "plt.show()"
   ]
  },
  {
   "cell_type": "markdown",
   "metadata": {},
   "source": [
    "## Training the AutoEncoder\n",
    "\n",
    "We will split the training data into a training and validation set.\n",
    "<br>Then we will train an autoencoder (with separate channel encoders).\n",
    "<br><br>The best model will be saved to **cae_M1.hdf5**\n"
   ]
  },
  {
   "cell_type": "code",
   "execution_count": null,
   "metadata": {},
   "outputs": [
    {
     "name": "stdout",
     "output_type": "stream",
     "text": [
      "Train on 13779 samples, validate on 1532 samples\n",
      "Epoch 1/300\n"
     ]
    }
   ],
   "source": [
    "#split into training and validation data\n",
    "#use 10% of the data as a validation set\n",
    "#random_state=1 to get repeatable results\n",
    "X_tr, X_val, y_tr, y_val = train_test_split(X, y, test_size=0.1, random_state=1)\n",
    "\n",
    "filepath=\"cae_M1\" #to save the best model\n",
    "#we use a checkpoint to save only the best model according to validation loss\n",
    "checkpoint = ModelCheckpoint(filepath+'.hdf5', monitor='val_loss', verbose=1, save_best_only=True, mode='auto')\n",
    "#we will also save the training progress on a .csv file\n",
    "csvlog = CSVLogger(filepath+'_train_log.csv',append=True)\n",
    "\n",
    "model = cae_indepIn(nchannels=nchannels)#initialize the autoencoder\n",
    "\n",
    "#now fit the model, we need to supply the input channels separately to the model\n",
    "#some reshaping is required to fit the input shapes expected by the model\n",
    "model.fit([X_tr[:,:,:,0].reshape(X_tr.shape[0], imsize[0], imsize[0], 1),\n",
    "                  X_tr[:,:,:,1].reshape(X_tr.shape[0], imsize[0], imsize[0], 1)], X_tr,\n",
    "                 validation_data=([X_val[:,:,:,0].reshape(X_val.shape[0], imsize[0], imsize[0], 1),\n",
    "                                   X_val[:,:,:,1].reshape(X_val.shape[0], imsize[0], imsize[0], 1)], X_val),\n",
    "                 epochs=300, batch_size=64, verbose=2,\n",
    "                 initial_epoch=0,callbacks=[checkpoint, csvlog])"
   ]
  }
 ],
 "metadata": {
  "kernelspec": {
   "display_name": "Python 3",
   "language": "python",
   "name": "python3"
  },
  "language_info": {
   "codemirror_mode": {
    "name": "ipython",
    "version": 3
   },
   "file_extension": ".py",
   "mimetype": "text/x-python",
   "name": "python",
   "nbconvert_exporter": "python",
   "pygments_lexer": "ipython3",
   "version": "3.5.3"
  }
 },
 "nbformat": 4,
 "nbformat_minor": 2
}
