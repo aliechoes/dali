{
 "cells": [
  {
   "cell_type": "markdown",
   "metadata": {
    "collapsed": true
   },
   "source": [
    "# Loading a dataset and saving it as .h5\n",
    "\n",
    "We will load an image flow cytometry experiment and save it to disk as an .h5 file.\n",
    "<br> The file will have the following fields:\n",
    "- X: the data matrix containing all images\n",
    "- y: the class label for each cell (0: apoptotic, 1: non-apoptotic)\n",
    "- fnames: the filename for each cell\n",
    "\n",
    "We assume the experiment/dataset has been saved by the IDEAS software and adheres to the following conventions:\n",
    "- the images of each class (subpopulation) are saved (exported) in a **separate** subfolder.\n",
    "- if C the number of channels, then there are C images for each cell and the suffix of the filename corresponds to the channel, followed by \".ome.tif\".<br>For example **\"62_Ch1.ome.tif\"** corresponds to **channel 1** of **cell 62**.\n",
    "- all subfolders corresponding to different classes, are present in the same folder which corresponds to the experiment.\n",
    "\n",
    "## Folder hierarchy convention\n",
    "Experiments must be saved using the **following folder hierarchy**:\n",
    "<br>./experiment/class1\n",
    "<br>./experiment/class2\n",
    "<br>...\n",
    "<br>./experiment/classN\n",
    "<br><br>Loading **multiple experiments** at once is also possible by using the following file structure:\n",
    "<br>./all_experiments/experimentA/class1\n",
    "<br>./all_experiments/experimentA/class2\n",
    "<br>...\n",
    "<br>./all_experiments/experimentA/classN\n",
    "<br>...\n",
    "<br>./all_experiments/experimentZ/class1\n",
    "<br>./all_experiments/experimentZ/class2\n",
    "<br>...\n",
    "<br>./all_experiments/experimentZ/classN\n",
    "\n",
    "## Loading an experiment with import_ideas()\n",
    "\n",
    "We will load an experiment (dataset) exported with the IDEAS software, using the load_ideas() method.\n",
    "<br>The dataset consists of two classes: \"apoptotic\" and \"EVs attached\" (which are non-apoptotic).\n",
    "<br> it is saved using the following folder hierarchy:\n",
    "<br> ./M4 annotated/apoptotic\n",
    "<br> ./M4 annotated/EVs attached\n",
    "\n",
    "## Important Note: Reading thousands of single-cell images can be slow!\n",
    "\n",
    "Reading (tens of) thousands of images from the hard drive can be slow, especially if you are not using and SSD.\n",
    "<br>import_ideas() will report the progress of the reading process by printing appropriate messages in the terminal.\n",
    "<br> In this example we will use a small dataset of 401 cells, so reading time will not be an issue."
   ]
  },
  {
   "cell_type": "code",
   "execution_count": 2,
   "metadata": {},
   "outputs": [
    {
     "name": "stdout",
     "output_type": "stream",
     "text": [
      "Warning: folder not supplied as a tuple, trying to convert...\n",
      "Scanning in: ./M4 annotated/apoptotic\n",
      "...channel: Ch1 detected 200 images\n",
      "...channel: Ch2 detected 200 images\n",
      "Scanning in: ./M4 annotated/EVs attached\n",
      "...channel: Ch1 detected 201 images\n",
      "...channel: Ch2 detected 201 images\n",
      "Loading apoptotic (class0)\n",
      "...channel Ch1\n",
      "...channel Ch2\n",
      "Loading EVs attached (class1)\n",
      "...channel Ch1\n",
      "...channel Ch2\n"
     ]
    }
   ],
   "source": [
    "import numpy as np\n",
    "np.random.seed(1)\n",
    "import pandas as pd\n",
    "import matplotlib.pyplot as plt\n",
    "import re\n",
    "import h5py\n",
    "from decafx.dxio import import_ideas\n",
    "\n",
    "folder = ('./data/M4 annotated')\n",
    "imsize = (32,32)#size to resize the images to\n",
    "classes = ('apoptotic','EVs attached')#classes, corresponding to subfolders of the experiment\n",
    "channels = (('Ch1','Ch2'),)*len(classes)#channels to read\n",
    "\n",
    "(X,y,fnames) = import_ideas(folder = folder,\n",
    "                 classes = classes,\n",
    "                 channels = channels,\n",
    "                 imsize = imsize,\n",
    "                 imtype='uint16',\n",
    "                 image_dim_ordering='tf')\n",
    "\n",
    "\n"
   ]
  },
  {
   "cell_type": "markdown",
   "metadata": {},
   "source": [
    "We can see that apoptotic cells were loaded as class0 (y==0) and non-apoptotic cells were loaded as class1 (y==1)\n",
    "<br>Let's visualize one apoptotic and one non-apoptotic cell."
   ]
  },
  {
   "cell_type": "code",
   "execution_count": 3,
   "metadata": {},
   "outputs": [
    {
     "data": {
      "image/png": "[encoded data removed]",
      "text/plain": [
       "<matplotlib.figure.Figure at 0x141108d0>"
      ]
     },
     "metadata": {},
     "output_type": "display_data"
    },
    {
     "data": {
      "image/png": "[encoded data removed]",
      "text/plain": [
       "<matplotlib.figure.Figure at 0x141d24e0>"
      ]
     },
     "metadata": {},
     "output_type": "display_data"
    }
   ],
   "source": [
    "ix_apoptotic = np.where(y==0)[0]#indices of apoptotic cells\n",
    "ix_nonApoptotic = np.where(y==1)[0]#indices of non-apoptotic cells\n",
    "\n",
    "#plot the image of an apoptotic cell\n",
    "plt.figure()\n",
    "plt.subplot(1,2,1)\n",
    "plt.imshow(X[ix_apoptotic[0],:,:,0],cmap='gray')\n",
    "plt.title('apopt. cell, Brightfield')\n",
    "plt.subplot(1,2,2)\n",
    "plt.imshow(X[ix_apoptotic[0],:,:,1],cmap='gray')\n",
    "plt.title('apopt. cell, Fluorescence')\n",
    "plt.show()\n",
    "\n",
    "#plot the image of an non-apoptotic cell\n",
    "plt.figure()\n",
    "plt.subplot(1,2,1)\n",
    "plt.imshow(X[ix_nonApoptotic[0],:,:,0],cmap='gray')\n",
    "plt.title('non-apopt. cell, Brightfield')\n",
    "plt.subplot(1,2,2)\n",
    "plt.imshow(X[ix_nonApoptotic[0],:,:,1],cmap='gray')\n",
    "plt.title('non-apopt. cell, Fluorescence')\n",
    "plt.show()"
   ]
  },
  {
   "cell_type": "markdown",
   "metadata": {},
   "source": [
    "## Saving the dataset to an .h5 file (optional)\n",
    "\n",
    "Now the dataset is loaded in the workspace and can be used for all intents and purposes.\n",
    "<br>Nonetheless, we will save it to disk as an .h5 file to speed-up reading the same dataset in the future.\n"
   ]
  },
  {
   "cell_type": "code",
   "execution_count": 4,
   "metadata": {},
   "outputs": [
    {
     "name": "stdout",
     "output_type": "stream",
     "text": [
      "dataset saved to disk!\n"
     ]
    }
   ],
   "source": [
    "#%% save h5py file\n",
    "h5f = h5py.File('./data/X_M4.h5','a')\n",
    "h5f.create_dataset('X', data = X)\n",
    "h5f.create_dataset('y', data = y)\n",
    "h5f.create_dataset('fnames', data = fnames)\n",
    "h5f.close()\n",
    "print('dataset saved to disk!')"
   ]
  },
  {
   "cell_type": "markdown",
   "metadata": {},
   "source": [
    "## Loading a dataset saved as .h5\n",
    "\n",
    "We will load the dataset and check perform a sanity check"
   ]
  },
  {
   "cell_type": "code",
   "execution_count": 8,
   "metadata": {},
   "outputs": [
    {
     "name": "stdout",
     "output_type": "stream",
     "text": [
      "the data is the same: True\n",
      "the labels are the same: True\n",
      "the filenames are the same: True\n"
     ]
    }
   ],
   "source": [
    "#%% load the data from the .h5 file\n",
    "h5f = h5py.File('./data/X_M4.h5','r')\n",
    "#h5f.visit(print)#print all filenames in the file\n",
    "X_new = h5f['X'][()]#images\n",
    "y_new = h5f['y'][()]#labels\n",
    "fnames_new = h5f['fnames'][()]\n",
    "h5f.close()\n",
    "\n",
    "print('the data is the same:',np.array_equal(X,X_new))\n",
    "print('the labels are the same:',np.array_equal(y,y_new))\n",
    "print('the filenames are the same:',np.array_equal(fnames,fnames_new))"
   ]
  }
 ],
 "metadata": {
  "kernelspec": {
   "display_name": "Python 3",
   "language": "python",
   "name": "python3"
  },
  "language_info": {
   "codemirror_mode": {
    "name": "ipython",
    "version": 3
   },
   "file_extension": ".py",
   "mimetype": "text/x-python",
   "name": "python",
   "nbconvert_exporter": "python",
   "pygments_lexer": "ipython3",
   "version": "3.5.3"
  }
 },
 "nbformat": 4,
 "nbformat_minor": 2
}
